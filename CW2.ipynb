{
 "cells": [
  {
   "cell_type": "markdown",
   "id": "c9e2c625",
   "metadata": {},
   "source": [
    "## Imports"
   ]
  },
  {
   "cell_type": "code",
   "execution_count": null,
   "id": "0c6dfe1c",
   "metadata": {
    "scrolled": false
   },
   "outputs": [],
   "source": [
    "import osmnx as ox\n",
    "import pandas as pd\n",
    "import numpy as np\n",
    "from sklearn.cluster import KMeans\n",
    "import geopandas as gpd\n",
    "import matplotlib.pyplot as plt\n",
    "import pyproj\n",
    "from shapely.geometry import Point, Polygon, LineString\n",
    "from geopy.geocoders import Nominatim\n",
    "from geopandas import GeoDataFrame\n",
    "import networkx as nx\n",
    "import spaghetti\n",
    "import esda\n",
    "import random\n",
    "from scipy.spatial import distance\n",
    "from itertools import combinations\n",
    "import datetime\n",
    "from prov import *\n",
    "from prov.dot import prov_to_dot\n",
    "from prov.model import ProvDocument\n",
    "from IPython.display import Image\n",
    "from prov.model import ProvRecord\n",
    "import seaborn as sns"
   ]
  },
  {
   "cell_type": "markdown",
   "id": "c43a2ddf",
   "metadata": {},
   "source": [
    "## Task A"
   ]
  },
  {
   "cell_type": "code",
   "execution_count": null,
   "id": "74dda790",
   "metadata": {},
   "outputs": [],
   "source": [
    "# Step 2: Download road network data for Bond Street area in Leeds\n",
    "place_name = \"Bond Street, Leeds, UK\"\n",
    "graph = ox.graph_from_place(place_name, network_type=\"drive\", buffer_dist=1000)"
   ]
  },
  {
   "cell_type": "code",
   "execution_count": null,
   "id": "a765819b",
   "metadata": {},
   "outputs": [],
   "source": [
    "# Create a geolocator object\n",
    "geolocator = Nominatim(user_agent=\"my_app\")\n",
    "\n",
    "# Get the location object for the Bond Street area in Leeds\n",
    "location = geolocator.geocode(place_name)\n",
    "\n",
    "latitude = location.latitude\n",
    "longitude = location.longitude\n",
    "\n",
    "# Print the latitude and longitude coordinates\n",
    "print(location.latitude, location.longitude)"
   ]
  },
  {
   "cell_type": "code",
   "execution_count": null,
   "id": "dcbdc3d9",
   "metadata": {},
   "outputs": [],
   "source": [
    "# Filter accident data to only include accidents within Bond Street area\n",
    "# Get the geographical area of bond street area from OpenStreetMap as a GeoDataFrame\n",
    "bondstreet_area = ox.geocode_to_gdf(place_name, buffer_dist=1000)\n",
    "# From this take the polygon that defines Bond's boundary\n",
    "bond_polygon = bondstreet_area['geometry'][0]\n",
    "bond_polygon"
   ]
  },
  {
   "cell_type": "code",
   "execution_count": null,
   "id": "1b92e37e",
   "metadata": {},
   "outputs": [],
   "source": [
    "# Load accident data for 2018 and 2019\n",
    "ac_2018 = pd.read_csv(\"accidents_2018.csv\")\n",
    "ac_2019 = pd.read_csv(\"accidents_2019.csv\")"
   ]
  },
  {
   "cell_type": "code",
   "execution_count": null,
   "id": "3a1e6c37",
   "metadata": {},
   "outputs": [],
   "source": [
    "#Concat both pandas dataframe\n",
    "accidents = pd.concat([ac_2018, ac_2019], axis=0)\n",
    "\n",
    "# Define the projection for the British National Grid\n",
    "bng = pyproj.Proj(init=\"epsg:27700\")\n",
    "\n",
    "# Define the projection for latitude and longitude\n",
    "wgs84 = pyproj.Proj(init=\"epsg:4326\")\n",
    "\n",
    "#Obtain latitude and longitude of the accidents in the dataset\n",
    "accidents[\"Longitude\"], accidents[\"Latitude\"] = pyproj.transform(bng, wgs84, accidents[\"Grid Ref: Easting\"].values, accidents[\"Grid Ref: Northing\"].values)"
   ]
  },
  {
   "cell_type": "code",
   "execution_count": null,
   "id": "84419f43",
   "metadata": {},
   "outputs": [],
   "source": [
    "# Translate to a GeoDatFrame where the geometry is given by a Point constructed from the longitude and latitude\n",
    "all_accidents = GeoDataFrame(geometry=[Point(xy) for xy in zip(\n",
    "    accidents.Longitude, accidents.Latitude)])"
   ]
  },
  {
   "cell_type": "code",
   "execution_count": null,
   "id": "0ad6783f",
   "metadata": {},
   "outputs": [],
   "source": [
    "all_accidents"
   ]
  },
  {
   "cell_type": "code",
   "execution_count": null,
   "id": "9d575081",
   "metadata": {},
   "outputs": [],
   "source": [
    "# Filter the crime points to just those within Bond Street, as defined by the polygon found earlier\n",
    "accidents_within_area = all_accidents[all_accidents.geometry.within(bond_polygon)]\n",
    "accidents_within_area"
   ]
  },
  {
   "cell_type": "code",
   "execution_count": null,
   "id": "8cb0ada3",
   "metadata": {},
   "outputs": [],
   "source": [
    "leeds_network = ox.graph_from_polygon(bond_polygon, network_type='drive')\n",
    "ox.plot_graph(leeds_network)"
   ]
  },
  {
   "cell_type": "code",
   "execution_count": null,
   "id": "8ecac73f",
   "metadata": {
    "scrolled": true
   },
   "outputs": [],
   "source": [
    "ox.plot_graph_folium(leeds_network)"
   ]
  },
  {
   "cell_type": "code",
   "execution_count": null,
   "id": "65a9af29",
   "metadata": {},
   "outputs": [],
   "source": [
    "# This line of code calculates the area of the Bond Street region in Leeds in square meters, which can be used to compute various\n",
    "# statistics related to the road network and accident data in the area.\n",
    "bondstreet_area = ox.project_gdf(bondstreet_area).unary_union.area\n",
    "stats = ox.basic_stats(leeds_network, area=bondstreet_area)"
   ]
  },
  {
   "cell_type": "code",
   "execution_count": null,
   "id": "87b704ed",
   "metadata": {},
   "outputs": [],
   "source": [
    "ox.extended_states(leeds_network, ecc=True)['diameter']"
   ]
  },
  {
   "cell_type": "code",
   "execution_count": null,
   "id": "379dc286",
   "metadata": {},
   "outputs": [],
   "source": [
    "stats"
   ]
  },
  {
   "cell_type": "code",
   "execution_count": null,
   "id": "6f06406a",
   "metadata": {},
   "outputs": [],
   "source": [
    "is_planar, kuratowski_subgraphs = nx.check_planarity(leeds_network, counterexample=True)\n",
    "is_planar"
   ]
  },
  {
   "cell_type": "code",
   "execution_count": null,
   "id": "a385e7e9",
   "metadata": {},
   "outputs": [],
   "source": [
    "plt.figure(figsize=(18, 8))\n",
    "nx.draw(kuratowski_subgraphs, pos=nx.kamada_kawai_layout(kuratowski_subgraphs), arrows=True, arrowstyle='-|>', with_labels=True)\n",
    "plt.show()"
   ]
  },
  {
   "cell_type": "markdown",
   "id": "48a94f99",
   "metadata": {},
   "source": [
    "## Task B"
   ]
  },
  {
   "cell_type": "code",
   "execution_count": null,
   "id": "e80b6a39",
   "metadata": {},
   "outputs": [],
   "source": [
    "# Some edges (roads in Bond street) are missing a geometry, so we will create one\n",
    "# assuming that the road is a direct line from start point to end point.\n",
    "# First, we need to get the locations of the points\n",
    "x_values = nx.get_node_attributes(leeds_network, 'x')\n",
    "y_values = nx.get_node_attributes(leeds_network, 'y')\n",
    "\n",
    "# We will work with the edges and add the missing geometries (lines denoting the roads between points)\n",
    "graph_with_geometries = list(leeds_network.edges(data=True))\n",
    "\n",
    "# Iterate through the edges and, where missing, add a geometry attribute with the line between start and end nodes\n",
    "for e in graph_with_geometries:\n",
    "    if not 'geometry' in e[2]:\n",
    "        e[2]['geometry'] = LineString([\n",
    "            Point(x_values[e[0]], y_values[e[0]]),\n",
    "            Point(x_values[e[1]], y_values[e[1]])])"
   ]
  },
  {
   "cell_type": "code",
   "execution_count": null,
   "id": "65900787",
   "metadata": {},
   "outputs": [],
   "source": [
    "# We will now drop the start and end nodes, as we will construct a new Spaghetti network based on the geometries of the roads\n",
    "road_lines = [x[2] for x in graph_with_geometries]\n",
    "# From this, we can construct a GeoDataFrame\n",
    "roads_geodataframe = GeoDataFrame(pd.DataFrame(road_lines))\n",
    "roads_geodataframe"
   ]
  },
  {
   "cell_type": "code",
   "execution_count": null,
   "id": "32c0041d",
   "metadata": {},
   "outputs": [],
   "source": [
    "# From the GeoDataFrame, we can construct a network in Spaghetti from which to do point analysis\n",
    "bond_points_graph = spaghetti.Network(in_data=roads_geodataframe)"
   ]
  },
  {
   "cell_type": "code",
   "execution_count": null,
   "id": "43c6fd20",
   "metadata": {},
   "outputs": [],
   "source": [
    "# Check what this new network looks like by getting DataFrames for the edges and plotting them\n",
    "nodes_df, edges_df = spaghetti.element_as_gdf(\n",
    "    bond_points_graph, vertices=True, arcs=True)\n",
    "\n",
    "base_network = edges_df.plot(color = \"k\", zorder=0, figsize=(15, 15))\n",
    "nodes_df.plot(ax=base_network, color=\"r\", zorder=2)"
   ]
  },
  {
   "cell_type": "code",
   "execution_count": null,
   "id": "b7b4540c",
   "metadata": {},
   "outputs": [],
   "source": [
    "# We will now snap the bond street located accidents we extracted earlier, \n",
    "#i.e. position them at the closest point on the closest road\n",
    "bond_points_graph.snapobservations(accidents_within_area, 'accidents')"
   ]
  },
  {
   "cell_type": "code",
   "execution_count": null,
   "id": "59ba9bf4",
   "metadata": {},
   "outputs": [],
   "source": [
    "# Show the network\n",
    "base_network = edges_df.plot(color=\"k\", zorder=0, figsize =(12, 12))\n",
    "# Get a GeoDataFrame of the snapped accident locations to plot on the network image\n",
    "snapped_accidents=spaghetti.element_as_gdf(\n",
    "    bond_points_graph, pp_name='accidents', snapped=True)\n",
    "\n",
    "# Plot these on the road network\n",
    "snapped_accidents.plot(\n",
    "    color=\"r\", marker=\"x\",\n",
    "    markersize=50, zorder=1, ax=base_network)\n",
    "\n",
    "plt.show()"
   ]
  },
  {
   "cell_type": "code",
   "execution_count": null,
   "id": "9c5ee4a0",
   "metadata": {},
   "outputs": [],
   "source": [
    "# Show the network\n",
    "base_network = edges_df.plot(color=\"k\", zorder=0, figsize =(12, 12))\n",
    "# Get a GeoDataFrame of the accident locations to plot on the network image\n",
    "snapped_accidents=spaghetti.element_as_gdf(\n",
    "    bond_points_graph, pp_name='accidents', snapped=False)\n",
    "\n",
    "# Plot these on the road network\n",
    "snapped_accidents.plot(\n",
    "    color=\"r\", marker=\"x\",\n",
    "    markersize=50, zorder=1, ax=base_network)\n",
    "\n",
    "plt.show()"
   ]
  },
  {
   "cell_type": "code",
   "execution_count": null,
   "id": "c69aab4a",
   "metadata": {},
   "outputs": [],
   "source": [
    "kres = bond_points_graph.GlobalAutoK(\n",
    "    bond_points_graph.pointpatterns[\"accidents\"],\n",
    "    nsteps=50, permutations=100\n",
    ")"
   ]
  },
  {
   "cell_type": "code",
   "execution_count": null,
   "id": "5b679654",
   "metadata": {},
   "outputs": [],
   "source": [
    "kres.lam\n",
    "kres.xaxis\n",
    "kres.observed\n",
    "kres.upperenvelope\n",
    "kres.lowerenvelope\n",
    "kres.sim\n",
    "\n",
    "print(f\"Density of points in the network (lambda): {kres.lam}\")"
   ]
  },
  {
   "cell_type": "code",
   "execution_count": null,
   "id": "08c00b92",
   "metadata": {},
   "outputs": [],
   "source": [
    "print(f\"Distances at which density is measured:\\n{kres.xaxis}\")"
   ]
  },
  {
   "cell_type": "code",
   "execution_count": null,
   "id": "eee30872",
   "metadata": {},
   "outputs": [],
   "source": [
    "fig, ax = plt.subplots()\n",
    "\n",
    "ax.plot(kres.xaxis, kres.observed, \"b-\", label=\"Observed\")\n",
    "ax.plot(kres.xaxis, kres.upperenvelope, \"r--\", label=\"Upper\")\n",
    "ax.plot(kres.xaxis, kres.lowerenvelope, \"k--\", label=\"Lower\")\n",
    "\n",
    "ax.legend(loc=\"best\", fontsize=\"x-large\")\n",
    "ax.set_xlabel(\"Distance $(r)$\")\n",
    "ax.set_ylabel(\"$K(r)$\")\n",
    "\n",
    "fig.tight_layout()"
   ]
  },
  {
   "cell_type": "code",
   "execution_count": null,
   "id": "32926c24",
   "metadata": {},
   "outputs": [],
   "source": [
    "# Get snapped point pattern \n",
    "pointpat = bond_points_graph.pointpatterns['accidents']\n",
    "# Get count of points per network edge: a dictionary from each edge to the crime count on that edge\n",
    "counts = bond_points_graph.count_per_link(pointpat.obs_to_arc, graph=False)"
   ]
  },
  {
   "cell_type": "code",
   "execution_count": null,
   "id": "5f4ba3b9",
   "metadata": {},
   "outputs": [],
   "source": [
    "# Get the weights matrix for edges in the graph (just the adjacency matrix with 1 where edges connect at a node, 0 otherwise)\n",
    "weights = bond_points_graph.w_network"
   ]
  },
  {
   "cell_type": "code",
   "execution_count": null,
   "id": "2d37955c",
   "metadata": {},
   "outputs": [],
   "source": [
    "# Get the edges included in the weights matrix: an enumerator for a list of edges\n",
    "edges = weights.neighbors.keys()\n",
    "# Construct an array of the counts values per edge in the same order as\n",
    "# the weights matrix, with 0.0 where no counts recorded\n",
    "values = [counts[edge] if edge in counts.keys () else 0. \\\n",
    "    for index, edge in enumerate(edges)]"
   ]
  },
  {
   "cell_type": "code",
   "execution_count": null,
   "id": "54e188d6",
   "metadata": {},
   "outputs": [],
   "source": [
    "moran = esda.moran.Moran(values, weights)\n",
    "moran.I"
   ]
  },
  {
   "cell_type": "code",
   "execution_count": null,
   "id": "b863e83d",
   "metadata": {},
   "outputs": [],
   "source": [
    "moran.p_sim"
   ]
  },
  {
   "cell_type": "code",
   "execution_count": null,
   "id": "0c196cc4",
   "metadata": {},
   "outputs": [],
   "source": [
    "moran.EI\n",
    "print(moran.EI_sim)\n",
    "\n",
    "print(moran.EI)"
   ]
  },
  {
   "cell_type": "code",
   "execution_count": null,
   "id": "fb12d92c",
   "metadata": {
    "scrolled": true
   },
   "outputs": [],
   "source": [
    "moran.sim"
   ]
  },
  {
   "cell_type": "code",
   "execution_count": null,
   "id": "66e8ed3e",
   "metadata": {},
   "outputs": [],
   "source": [
    "sns.kdeplot(moran.sim, shade=True)\n",
    "plt.vlines(moran.I, 0, 1, color='r')\n",
    "plt.vlines(moran.EI, 0,1)\n",
    "plt.xlabel(\"Moran's I\")"
   ]
  },
  {
   "cell_type": "markdown",
   "id": "bce49045",
   "metadata": {},
   "source": [
    "## Task C"
   ]
  },
  {
   "cell_type": "code",
   "execution_count": null,
   "id": "7649a4c2",
   "metadata": {},
   "outputs": [],
   "source": [
    "# Define the query place and get the graph\n",
    "query_place = \"Leeds, UK\"\n",
    "G = ox.graph_from_place(query_place, network_type=\"drive\")\n",
    "\n",
    "# Get the node coordinates as a numpy array\n",
    "coords = np.array([[data[\"x\"], data[\"y\"]] for node, data in G.nodes(data=True)])\n",
    "\n",
    "# Choose the number of clusters\n",
    "k = 10\n",
    "\n",
    "# Run the k-means clustering algorithm\n",
    "kmeans = KMeans(n_clusters=k, random_state=0).fit(coords)\n",
    "\n",
    "# Get the centroids of the clusters as the seed points\n",
    "seeds = kmeans.cluster_centers_\n",
    "\n",
    "# Find the nearest node to each centroid and  it to the seed list\n",
    "closest_nodes = [ox.distance.nearest_nodes(G, seed[0], seed[1]) for seed in seeds]\n",
    "seeds = [min(closest_nodes, key=lambda node: np.linalg.norm(np.array([G.nodes[node]['x'], G.nodes[node]['y']]) - seed)) for seed in seeds]"
   ]
  },
  {
   "cell_type": "code",
   "execution_count": null,
   "id": "4b468339",
   "metadata": {},
   "outputs": [],
   "source": [
    "# Black color representation\n",
    "black_color = (0.0, 0.0, 0.0, 1.0)  # change 'k' to RGBs value tuple (0.0, 0.0, 0.0, 1.0) if ValueError\n",
    "all_nodes = list(G.nodes)"
   ]
  },
  {
   "cell_type": "code",
   "execution_count": null,
   "id": "8962dd07",
   "metadata": {},
   "outputs": [],
   "source": [
    "distances = {seed: nx.single_source_dijkstra_path_length(\n",
    "    G, seed, weight='length') for seed in seeds}\n",
    "\n",
    "def nearest_from_list(node_distances):\n",
    "    return sorted(node_distances, key=lambda node_length: node_length[1])[0] \\\n",
    "        if len(node_distances) > 0 else None\n",
    "\n",
    "def nearest_seed(node):\n",
    "    seed_distances = [(seed, distances[seed][node]) \\\n",
    "        for seed in seeds if node in distances[seed]]\n",
    "    return nearest_from_list(seed_distances)\n",
    "\n",
    "def nearest_for_edge(edge):\n",
    "    nearest_to_ends_all = [nearest_seed(edge[0]), nearest_seed(edge[1])]\n",
    "    nearest_to_ends = [distance for distance in nearest_to_ends_all if distance]\n",
    "    return nearest_from_list(nearest_to_ends)\n",
    "\n",
    "colours = ox.plot.get_colors(k)\n",
    "\n",
    "def colour_for_seed_distance(seed):\n",
    "    return colours[seeds.index(seed[0])]\n",
    "\n",
    "edge_nearest_seeds = [nearest_for_edge(edge) for edge in G.edges]\n",
    "# Note that edges not connected to a seed shown in black, so invisible on black background\n",
    "edge_colours = [colour_for_seed_distance(seed) if seed else black_color for seed in edge_nearest_seeds]  \n",
    "# For the road network nodes, we want the seeds to be coloured red and the non-seed nodes to be coloured white.\n",
    "node_colours = ['r' if node in seeds else 'w' for node in all_nodes]\n",
    "\n",
    "ox.plot.plot_graph(G, edge_color = edge_colours, node_color = node_colours, bgcolor = 'k', save = True, filepath = 'nvd.png')"
   ]
  },
  {
   "cell_type": "code",
   "execution_count": null,
   "id": "ab87c470",
   "metadata": {
    "scrolled": true
   },
   "outputs": [],
   "source": [
    "def get_nodes_by_seed():\n",
    "    nodes_by_seed = {seed: [] for seed in seeds}\n",
    "    \n",
    "    for node in all_nodes:\n",
    "        nearest = nearest_seed(node)\n",
    "        if nearest:\n",
    "            nodes_by_seed[nearest[0]].append(node)\n",
    "    \n",
    "    return nodes_by_seed\n",
    "\n",
    "# Get the nodes that belong to each cell seed point\n",
    "nodes_by_seed = get_nodes_by_seed()\n"
   ]
  },
  {
   "cell_type": "code",
   "execution_count": null,
   "id": "0f489dff",
   "metadata": {
    "scrolled": true
   },
   "outputs": [],
   "source": [
    "def marathon_paths(graph, voronoi_dict, target_length=42000, tolerance=250):\n",
    "    paths_42 = {}\n",
    "    \n",
    "    for seed, cell_nodes in voronoi_dict.items():\n",
    "        subgraph = graph.subgraph(cell_nodes)\n",
    "        undirected_simple_subgraph = nx.Graph(subgraph.to_undirected())\n",
    "        all_cycle_seed = nx.cycle_basis(undirected_simple_subgraph)\n",
    "        \n",
    "        cell_cycles = []\n",
    "        for cycle in all_cycle_seed:\n",
    "            cycle_length = 0\n",
    "            for i in range(len(cycle) - 1):\n",
    "                if cycle[i+1] in subgraph[cycle[i]]:\n",
    "                    cycle_length += subgraph[cycle[i]][cycle[i+1]][0]['length']\n",
    "            if cycle[0] in subgraph[cycle[-1]]:\n",
    "                cycle_length += subgraph[cycle[-1]][cycle[0]][0]['length']\n",
    "            \n",
    "            if target_length - tolerance <= cycle_length <= target_length + tolerance:\n",
    "                cell_cycles.append((cycle, cycle_length))\n",
    "                print(\"Path found of length {} meters for seed {}\".format(seed, cycle_length))\n",
    "        \n",
    "        paths_42[seed] = cell_cycles\n",
    "        print(paths_42)\n",
    "    \n",
    "    return paths_42\n",
    "\n",
    "def plot_subgraph_with_path(G, subgraph_nodes, seed, path):\n",
    "    subgraph = G.subgraph(subgraph_nodes).copy()\n",
    "    edge_colours = [colour_for_seed_distance(nearest_for_edge(edge)) if nearest_for_edge(edge) else black_color for edge in subgraph.edges]\n",
    "    node_colours = ['r' if node in seeds else 'w' for node in subgraph_nodes]\n",
    "\n",
    "    # Customize the plot appearance\n",
    "    edge_linewidths = [2 if (u, v) in path_edges or (v, u) in path_edges else 1 for u, v in subgraph.edges()]\n",
    "    path_edge_colors = ['red' if (u, v) in path_edges or (v, u) in path_edges else edge_colours[i] for i, (u, v) in enumerate(subgraph.edges())]\n",
    "    node_sizes = [50 if node == seed else 15 for node in subgraph_nodes]\n",
    "\n",
    "    fig, ax = ox.plot_graph(subgraph, bgcolor='k', node_color=node_colours, node_size=node_sizes,\n",
    "                             node_zorder=2, edge_color=path_edge_colors, edge_linewidth=edge_linewidths,\n",
    "                             edge_alpha=1, dpi=100, close=True)\n",
    "    \n",
    "paths_42 = marathon_paths(G, nodes_by_seed)\n",
    "\n",
    "for seed, paths in paths_42.items():\n",
    "    if paths:  # If there's a path found for the seed point\n",
    "        path_edges = [(paths[0][0][i], paths[0][0][i + 1]) for i in range(len(paths[0][0]) - 1)] + [(paths[0][0][-1], paths[0][0][0])]\n",
    "        plot_subgraph_with_path(G, nodes_by_seed[seed], seed, path_edges)"
   ]
  },
  {
   "cell_type": "markdown",
   "id": "84658154",
   "metadata": {},
   "source": [
    "# Part 5 task C"
   ]
  },
  {
   "cell_type": "code",
   "execution_count": null,
   "id": "98d70f85",
   "metadata": {},
   "outputs": [],
   "source": [
    "# Define the query place and get the graph\n",
    "query_place = \"Leeds, UK\"\n",
    "G = ox.graph_from_place(query_place, network_type=\"drive\")\n",
    "\n",
    "# Get the node coordinates as a numpy array\n",
    "coords = np.array([[data[\"x\"], data[\"y\"]] for node, data in G.nodes(data=True)])\n",
    "\n",
    "# Choose the number of clusters\n",
    "k = 7\n",
    "\n",
    "# Run the k-means clustering algorithm\n",
    "kmeans = KMeans(n_clusters=k, random_state=0).fit(coords)\n",
    "\n",
    "# Get the centroids of the clusters as the seed points\n",
    "seeds = kmeans.cluster_centers_\n",
    "\n",
    "# Find the nearest node to each centroid and  it to the seed list\n",
    "closest_nodes = [ox.distance.nearest_nodes(G, seed[0], seed[1]) for seed in seeds]\n",
    "seeds = [min(closest_nodes, key=lambda node: np.linalg.norm(np.array([G.nodes[node]['x'], G.nodes[node]['y']]) - seed)) for seed in seeds]\n",
    "\n",
    "# Black color representation\n",
    "black_color = (0.0, 0.0, 0.0, 1.0)  # change 'k' to RGBs value tuple (0.0, 0.0, 0.0, 1.0) if ValueError\n",
    "all_nodes = list(G.nodes)\n",
    "\n",
    "distances = {seed: nx.single_source_dijkstra_path_length(\n",
    "    G, seed, weight='length') for seed in seeds}\n",
    "\n",
    "def nearest_from_list(node_distances):\n",
    "    return sorted(node_distances, key=lambda node_length: node_length[1])[0] \\\n",
    "        if len(node_distances) > 0 else None\n",
    "\n",
    "def nearest_seed(node):\n",
    "    seed_distances = [(seed, distances[seed][node]) \\\n",
    "        for seed in seeds if node in distances[seed]]\n",
    "    return nearest_from_list(seed_distances)\n",
    "\n",
    "def nearest_for_edge(edge):\n",
    "    nearest_to_ends_all = [nearest_seed(edge[0]), nearest_seed(edge[1])]\n",
    "    nearest_to_ends = [distance for distance in nearest_to_ends_all if distance]\n",
    "    return nearest_from_list(nearest_to_ends)\n",
    "\n",
    "colours = ox.plot.get_colors(k)\n",
    "\n",
    "def colour_for_seed_distance(seed):\n",
    "    return colours[seeds.index(seed[0])]\n",
    "\n",
    "edge_nearest_seeds = [nearest_for_edge(edge) for edge in G.edges]\n",
    "# Note that edges not connected to a seed shown in black, so invisible on black background\n",
    "edge_colours = [colour_for_seed_distance(seed) if seed else black_color for seed in edge_nearest_seeds]  \n",
    "# For the road network nodes, we want the seeds to be coloured red and the non-seed nodes to be coloured white.\n",
    "node_colours = ['r' if node in seeds else 'w' for node in all_nodes]\n",
    "\n",
    "ox.plot.plot_graph(G, edge_color = edge_colours, node_color = node_colours, bgcolor = 'k', save = True, filepath = 'nvd.png')"
   ]
  },
  {
   "cell_type": "code",
   "execution_count": null,
   "id": "92c883a3",
   "metadata": {
    "scrolled": true
   },
   "outputs": [],
   "source": [
    "def get_nodes_by_seed():\n",
    "    nodes_by_seed = {seed: [] for seed in seeds}\n",
    "    \n",
    "    for node in all_nodes:\n",
    "        nearest = nearest_seed(node)\n",
    "        if nearest:\n",
    "            nodes_by_seed[nearest[0]].append(node)\n",
    "    \n",
    "    return nodes_by_seed\n",
    "\n",
    "# Get the nodes that belong to each cell seed point\n",
    "nodes_by_seed = get_nodes_by_seed()\n",
    "\n",
    "def marathon_paths(graph, voronoi_dict, target_length=42000, tolerance=500):\n",
    "    paths_42 = {}\n",
    "    \n",
    "    for seed, cell_nodes in voronoi_dict.items():\n",
    "        subgraph = graph.subgraph(cell_nodes)\n",
    "        undirected_simple_subgraph = nx.Graph(subgraph.to_undirected())\n",
    "        all_cycle_seed = nx.cycle_basis(undirected_simple_subgraph)\n",
    "        \n",
    "        cell_cycles = []\n",
    "        for cycle in all_cycle_seed:\n",
    "            cycle_length = 0\n",
    "            for i in range(len(cycle) - 1):\n",
    "                if cycle[i+1] in subgraph[cycle[i]]:\n",
    "                    cycle_length += subgraph[cycle[i]][cycle[i+1]][0]['length']\n",
    "            if cycle[0] in subgraph[cycle[-1]]:\n",
    "                cycle_length += subgraph[cycle[-1]][cycle[0]][0]['length']\n",
    "            \n",
    "            if target_length - tolerance <= cycle_length <= target_length + tolerance:\n",
    "                cell_cycles.append((cycle, cycle_length))\n",
    "                print(\"Path found of length {} meters for seed {}\".format(seed, cycle_length))\n",
    "        \n",
    "        paths_42[seed] = cell_cycles\n",
    "        print(paths_42)\n",
    "    \n",
    "    return paths_42\n",
    "\n",
    "def plot_subgraph_with_path(G, subgraph_nodes, seed, path):\n",
    "    subgraph = G.subgraph(subgraph_nodes).copy()\n",
    "    edge_colours = [colour_for_seed_distance(nearest_for_edge(edge)) if nearest_for_edge(edge) else black_color for edge in subgraph.edges]\n",
    "    node_colours = ['r' if node in seeds else 'w' for node in subgraph_nodes]\n",
    "\n",
    "    # Customize the plot appearance\n",
    "    edge_linewidths = [2 if (u, v) in path_edges or (v, u) in path_edges else 1 for u, v in subgraph.edges()]\n",
    "    path_edge_colors = ['red' if (u, v) in path_edges or (v, u) in path_edges else edge_colours[i] for i, (u, v) in enumerate(subgraph.edges())]\n",
    "    node_sizes = [50 if node == seed else 15 for node in subgraph_nodes]\n",
    "\n",
    "    fig, ax = ox.plot_graph(subgraph, bgcolor='k', node_color=node_colours, node_size=node_sizes,\n",
    "                             node_zorder=2, edge_color=path_edge_colors, edge_linewidth=edge_linewidths,\n",
    "                             edge_alpha=1, dpi=100, close=True)\n",
    "    \n",
    "paths_42 = marathon_paths(G, nodes_by_seed)\n",
    "\n",
    "for seed, paths in paths_42.items():\n",
    "    if paths:  # If there's a path found for the seed point\n",
    "        path_edges = [(paths[0][0][i], paths[0][0][i + 1]) for i in range(len(paths[0][0]) - 1)] + [(paths[0][0][-1], paths[0][0][0])]\n",
    "        plot_subgraph_with_path(G, nodes_by_seed[seed], seed, path_edges)"
   ]
  },
  {
   "cell_type": "markdown",
   "id": "d14f30d0",
   "metadata": {},
   "source": [
    "## Task D"
   ]
  },
  {
   "cell_type": "code",
   "execution_count": null,
   "id": "8992f233",
   "metadata": {},
   "outputs": [],
   "source": [
    "# Create a new provenance document\n",
    "doc = ProvDocument()\n",
    "\n",
    "# Set the namespace prefixes\n",
    "doc.add_namespace('dataset2018', 'https://datamillnorth.org/download/road-traffic-accidents/8c100249-09c5-4aac-91c1-9c7c3656892b/RTC%25202018_Leeds.csv')\n",
    "doc.add_namespace('dataset2019', 'https://datamillnorth.org/download/road-traffic-accidents/8e6585f6-e627-4258-b16f-ca3858c0cc67/Traffic%2520accidents_2019_Leeds.csv')\n",
    "doc.add_namespace('accident', 'https://www.data.gov.uk/dataset/6efe5505-941f-45bf-b576-4c1e09b579a1/road-traffic-accidents')\n",
    "\n",
    "# Define the entities\n",
    "dataset2018 = doc.entity('dataset2018:accidents', {'prov:type': 'dataset', 'prov:location': 'Leeds'})\n",
    "dataset2019 = doc.entity('dataset2019:accidents', {'prov:type': 'dataset', 'prov:location': 'Leeds'})\n",
    "graph = doc.entity('accident:graph', {'prov:type': 'graph','prov:location': ' Bond Street, Leeds'})\n",
    "\n",
    "# Define the activities\n",
    "gather_data_2018 = doc.activity('dataset2018:gather-data')\n",
    "gather_data_2019 = doc.activity('dataset2019:gather-data')\n",
    "create_graph = doc.activity('accident:create_graph-data')\n",
    "\n",
    "\n",
    "# Define the agents\n",
    "data_collector_2018 = doc.agent('dataset2018:data-collector', {'prov:type': 'person'})\n",
    "data_collector_2019 = doc.agent('dataset2019:data-collector', {'prov:type': 'person'})\n",
    "data_analyst_2018 = doc.agent('dataset2018:data-analyst', {'prov:type': 'person'})\n",
    "data_analyst_2019 = doc.agent('dataset2019:data-analyst', {'prov:type': 'person'})\n",
    "\n",
    "\n",
    "\n",
    "# Define the relationships between entities, activities, and agents\n",
    "doc.wasGeneratedBy(dataset2018, gather_data_2018)\n",
    "doc.wasGeneratedBy(dataset2019, gather_data_2019)\n",
    "doc.used(create_graph, dataset2018)\n",
    "doc.used(create_graph, dataset2019)\n",
    "doc.wasGeneratedBy(graph, create_graph)\n",
    "doc.wasAttributedTo(gather_data_2018, data_collector_2018)\n",
    "doc.wasAttributedTo(gather_data_2019, data_collector_2019)\n",
    "doc.wasAttributedTo(create_graph, data_analyst_2018)\n",
    "doc.wasAttributedTo(create_graph, data_analyst_2019)"
   ]
  },
  {
   "cell_type": "code",
   "execution_count": null,
   "id": "13827340",
   "metadata": {},
   "outputs": [],
   "source": [
    "# visualize the graph\n",
    "dot = prov_to_dot(doc)\n",
    "dot.write_png('diagram.png')"
   ]
  },
  {
   "cell_type": "code",
   "execution_count": null,
   "id": "ad3feae2",
   "metadata": {},
   "outputs": [],
   "source": [
    "Image('diagram.png')"
   ]
  },
  {
   "cell_type": "code",
   "execution_count": null,
   "id": "94905039",
   "metadata": {},
   "outputs": [],
   "source": [
    "with open('prov_document.prov', 'w') as f:\n",
    "    prov_serialization = doc.serialize(format='json')\n",
    "    f.write(prov_serialization)"
   ]
  }
 ],
 "metadata": {
  "kernelspec": {
   "display_name": "Python 3 (ipykernel)",
   "language": "python",
   "name": "python3"
  },
  "language_info": {
   "codemirror_mode": {
    "name": "ipython",
    "version": 3
   },
   "file_extension": ".py",
   "mimetype": "text/x-python",
   "name": "python",
   "nbconvert_exporter": "python",
   "pygments_lexer": "ipython3",
   "version": "3.9.12"
  }
 },
 "nbformat": 4,
 "nbformat_minor": 5
}
